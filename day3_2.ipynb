{
  "nbformat": 4,
  "nbformat_minor": 0,
  "metadata": {
    "colab": {
      "name": "day3_2",
      "provenance": [],
      "authorship_tag": "ABX9TyPyQ2LpMi7HXXt1JCOwSyjH",
      "include_colab_link": true
    },
    "kernelspec": {
      "name": "python3",
      "display_name": "Python 3"
    }
  },
  "cells": [
    {
      "cell_type": "markdown",
      "metadata": {
        "id": "view-in-github",
        "colab_type": "text"
      },
      "source": [
        "<a href=\"https://colab.research.google.com/github/joonoh0615/cupcake/blob/master/day3_2.ipynb\" target=\"_parent\"><img src=\"https://colab.research.google.com/assets/colab-badge.svg\" alt=\"Open In Colab\"/></a>"
      ]
    },
    {
      "cell_type": "code",
      "metadata": {
        "id": "FMXkVTpbWolx",
        "colab_type": "code",
        "colab": {
          "base_uri": "https://localhost:8080/",
          "height": 127
        },
        "outputId": "12e4d811-9062-41e0-8286-295011cfadb7"
      },
      "source": [
        "from google.colab import drive\n",
        "drive.mount('/content/drive')"
      ],
      "execution_count": 1,
      "outputs": [
        {
          "output_type": "stream",
          "text": [
            "Go to this URL in a browser: https://accounts.google.com/o/oauth2/auth?client_id=947318989803-6bn6qk8qdgf4n4g3pfee6491hc0brc4i.apps.googleusercontent.com&redirect_uri=urn%3aietf%3awg%3aoauth%3a2.0%3aoob&response_type=code&scope=email%20https%3a%2f%2fwww.googleapis.com%2fauth%2fdocs.test%20https%3a%2f%2fwww.googleapis.com%2fauth%2fdrive%20https%3a%2f%2fwww.googleapis.com%2fauth%2fdrive.photos.readonly%20https%3a%2f%2fwww.googleapis.com%2fauth%2fpeopleapi.readonly\n",
            "\n",
            "Enter your authorization code:\n",
            "··········\n",
            "Mounted at /content/drive\n"
          ],
          "name": "stdout"
        }
      ]
    },
    {
      "cell_type": "code",
      "metadata": {
        "id": "6Dj-Wg9PW1Hu",
        "colab_type": "code",
        "colab": {
          "base_uri": "https://localhost:8080/",
          "height": 35
        },
        "outputId": "839c9d56-079a-4de3-f7d1-5c8e9654e831"
      },
      "source": [
        "ls"
      ],
      "execution_count": 2,
      "outputs": [
        {
          "output_type": "stream",
          "text": [
            "\u001b[0m\u001b[01;34mdrive\u001b[0m/  \u001b[01;34msample_data\u001b[0m/\n"
          ],
          "name": "stdout"
        }
      ]
    },
    {
      "cell_type": "code",
      "metadata": {
        "id": "C48s5kemXCQh",
        "colab_type": "code",
        "colab": {
          "base_uri": "https://localhost:8080/",
          "height": 35
        },
        "outputId": "3f79d256-eb1d-4d08-afa6-d2ecf90a5b78"
      },
      "source": [
        "cd drive/"
      ],
      "execution_count": 3,
      "outputs": [
        {
          "output_type": "stream",
          "text": [
            "/content/drive\n"
          ],
          "name": "stdout"
        }
      ]
    },
    {
      "cell_type": "code",
      "metadata": {
        "id": "wQYWG2k7XEnN",
        "colab_type": "code",
        "colab": {
          "base_uri": "https://localhost:8080/",
          "height": 35
        },
        "outputId": "05b9bca9-5c14-44d9-8774-5faaa14b401f"
      },
      "source": [
        "ls"
      ],
      "execution_count": 4,
      "outputs": [
        {
          "output_type": "stream",
          "text": [
            "\u001b[0m\u001b[01;34m'My Drive'\u001b[0m/\n"
          ],
          "name": "stdout"
        }
      ]
    },
    {
      "cell_type": "code",
      "metadata": {
        "id": "tmFPVgO0XF2o",
        "colab_type": "code",
        "colab": {
          "base_uri": "https://localhost:8080/",
          "height": 35
        },
        "outputId": "4d1056ec-875e-460a-9680-7a7f0e006ec2"
      },
      "source": [
        "cd 'My Drive'"
      ],
      "execution_count": 5,
      "outputs": [
        {
          "output_type": "stream",
          "text": [
            "/content/drive/My Drive\n"
          ],
          "name": "stdout"
        }
      ]
    },
    {
      "cell_type": "code",
      "metadata": {
        "id": "6PnPuThLXI3u",
        "colab_type": "code",
        "colab": {
          "base_uri": "https://localhost:8080/",
          "height": 647
        },
        "outputId": "bb05fadc-8a54-4174-fc21-f0f423e640c9"
      },
      "source": [
        "ls"
      ],
      "execution_count": 6,
      "outputs": [
        {
          "output_type": "stream",
          "text": [
            " \u001b[0m\u001b[01;34m사진\u001b[0m/\n",
            "\u001b[01;34m'통물의 숲'\u001b[0m/\n",
            "\u001b[01;34m'시그너스 천체관측동아리'\u001b[0m\u001b[K/\n",
            "\u001b[01;34m'세종과학고 드론 촬영'\u001b[0m/\n",
            "\u001b[01;34m'세종과고1 수행'\u001b[0m/\n",
            " \u001b[01;34m과제연구1-1\u001b[0m/\n",
            "'[해야할것] 과학공화국 (1).gdoc'\n",
            "'한컴오피스 2014.zip'\n",
            "\u001b[01;34m'너의이름은(2016)'\u001b[0m/\n",
            "\u001b[01;34m'2017  1109 추계관측회'\u001b[0m/\n",
            "\u001b[01;34m'2018 제주도 자연탐사 수행'\u001b[0m/\n",
            "\u001b[01;34m'2018 06 16 집을 스튜디오처럼!'\u001b[0m/\n",
            "\u001b[01;34m'2018 1학기 과제연구 탐구논총 공유파일(절대 삭제X)'\u001b[0m\u001b[K/\n",
            "'[해야할것] 과학공화국 (2).gdoc'\n",
            "\u001b[01;34m'파이썬 2조(IPCEO_2020.01)'\u001b[0m/\n",
            "\u001b[01;34m'3711 오세준'\u001b[0m/\n",
            "\u001b[01;34m'미니언즈 3D프린터 동아리'\u001b[0m/\n",
            "'[해야할것] 과학공화국 (3).gdoc'\n",
            " Capture+_2017-11-11-20-17-56.png\n",
            "'codeMap (1).gdoc'\n",
            " codeMap.gdoc\n",
            " codeMap.pdf\n",
            "\u001b[01;34m'Colab Notebooks'\u001b[0m/\n",
            "'[해야할것] 과학공화국.gdoc'\n",
            "'블로그 설문지.gform'\n",
            "'제목 없는 스프레드시트.gsheet'\n",
            " 강의용시트.gsheet\n",
            "'강의용시트의 사본.gsheet'\n",
            "'Sejoon OH..gsite'\n",
            " Sky-Walker_Pro_Manual_V1.03.pdf\n",
            " \u001b[01;34mSSAP\u001b[0m/\n",
            "'StudioBinder Ultimate Shot List Template의 사본.gsheet'\n",
            "'Things we ate together 101.gsheet'\n",
            "'[해야할것] 과학공화국.txt'\n",
            " vim.pptx\n"
          ],
          "name": "stdout"
        }
      ]
    },
    {
      "cell_type": "code",
      "metadata": {
        "id": "54p-ZLRqXJ2m",
        "colab_type": "code",
        "colab": {
          "base_uri": "https://localhost:8080/",
          "height": 136
        },
        "outputId": "8bce0832-9a29-49c3-aac5-986acd1636b4"
      },
      "source": [
        "git clone https://github.com/hunter-heidenreich/ML-Open-Source-Implementations.git"
      ],
      "execution_count": 7,
      "outputs": [
        {
          "output_type": "error",
          "ename": "SyntaxError",
          "evalue": "ignored",
          "traceback": [
            "\u001b[0;36m  File \u001b[0;32m\"<ipython-input-7-2dd354edae9a>\"\u001b[0;36m, line \u001b[0;32m1\u001b[0m\n\u001b[0;31m    git clone https://github.com/hunter-heidenreich/ML-Open-Source-Implementations.git\u001b[0m\n\u001b[0m            ^\u001b[0m\n\u001b[0;31mSyntaxError\u001b[0m\u001b[0;31m:\u001b[0m invalid syntax\n"
          ]
        }
      ]
    },
    {
      "cell_type": "code",
      "metadata": {
        "id": "min1w6_DYxfe",
        "colab_type": "code",
        "colab": {
          "base_uri": "https://localhost:8080/",
          "height": 107
        },
        "outputId": "34671275-e6f6-4026-f850-a6cd605204cb"
      },
      "source": [
        "!git clone https://github.com/hunter-heidenreich/ML-Open-Source-Implementations.git"
      ],
      "execution_count": 8,
      "outputs": [
        {
          "output_type": "stream",
          "text": [
            "Cloning into 'ML-Open-Source-Implementations'...\n",
            "remote: Enumerating objects: 69, done.\u001b[K\n",
            "remote: Total 69 (delta 0), reused 0 (delta 0), pack-reused 69\u001b[K\n",
            "Unpacking objects: 100% (69/69), done.\n",
            "Checking out files: 100% (33/33), done.\n"
          ],
          "name": "stdout"
        }
      ]
    },
    {
      "cell_type": "code",
      "metadata": {
        "id": "wzDtXtMjZL1G",
        "colab_type": "code",
        "colab": {}
      },
      "source": [
        ""
      ],
      "execution_count": 0,
      "outputs": []
    }
  ]
}